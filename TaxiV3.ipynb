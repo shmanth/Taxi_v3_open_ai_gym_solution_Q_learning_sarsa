{
  "nbformat": 4,
  "nbformat_minor": 0,
  "metadata": {
    "colab": {
      "provenance": [],
      "authorship_tag": "ABX9TyM53HW1fn/vuf5qKxZUtMVm",
      "include_colab_link": true
    },
    "kernelspec": {
      "name": "python3",
      "display_name": "Python 3"
    },
    "language_info": {
      "name": "python"
    }
  },
  "cells": [
    {
      "cell_type": "markdown",
      "metadata": {
        "id": "view-in-github",
        "colab_type": "text"
      },
      "source": [
        "<a href=\"https://colab.research.google.com/github/shmanth/Taxi_v3_open_ai_gym_solution_Q_learning_sarsa/blob/master/TaxiV3.ipynb\" target=\"_parent\"><img src=\"https://colab.research.google.com/assets/colab-badge.svg\" alt=\"Open In Colab\"/></a>"
      ]
    },
    {
      "cell_type": "markdown",
      "source": [
        "## Solving OpenAI Gym Environment - (Taxi-*v3*)\n",
        "In this Python demo, we'll try solving the classic cab-driver problem. The purpose of this notebook is to show how to solve OpenAI Gym environments. We'll demonstrate Q-learning & SARSA on the Taxi environment.\n",
        "\n",
        "Let's now look at the problem statement\n",
        "\n",
        "Here, the objective is to pick up the passenger from one position and drop them off at another in minimum possible time. For this problem, we'll consider our environment to be a 5x5 grid.\n",
        "\n",
        " Image source: https://www.learndatasci.com/tutorials/reinforcement-q-learning-scratch-python-openai-gym/\n",
        "There are 4 locations (R, G, Y, B) marked in the image. And the task is to pick up the passenger from one of the four locations and drop him off at other. There is a reward of +20 for a successful dropoff, and -1 for every timestep it takes and -10 for illegal pick-up and drop-off actions."
      ],
      "metadata": {
        "id": "Sutq5Bsm0_6N"
      }
    },
    {
      "cell_type": "code",
      "execution_count": 1,
      "metadata": {
        "id": "Xt3O9GYJxeOn"
      },
      "outputs": [],
      "source": [
        "# Import routines\n",
        "import numpy as np\n",
        "import random\n",
        "import time\n",
        "import gym\n",
        "from IPython.display import clear_output"
      ]
    },
    {
      "cell_type": "markdown",
      "source": [
        "### Calling Env"
      ],
      "metadata": {
        "id": "MqMDeX0u1TN-"
      }
    },
    {
      "cell_type": "code",
      "source": [
        "env = gym.make(\"Taxi-v3\")# Create the env\n",
        "\n",
        "state = env.reset()\n",
        "env.render() # Helps in visualizing the environment\n",
        "\n",
        "print(\"Current state is:\", state)"
      ],
      "metadata": {
        "colab": {
          "base_uri": "https://localhost:8080/"
        },
        "id": "GO01BQUg1FdT",
        "outputId": "26fd4562-cee4-42e6-fd20-a241b35b812d"
      },
      "execution_count": 2,
      "outputs": [
        {
          "output_type": "stream",
          "name": "stderr",
          "text": [
            "/usr/local/lib/python3.10/dist-packages/ipykernel/ipkernel.py:283: DeprecationWarning: `should_run_async` will not call `transform_cell` automatically in the future. Please pass the result to `transformed_cell` argument and any exception that happen during thetransform in `preprocessing_exc_tuple` in IPython 7.17 and above.\n",
            "  and should_run_async(code)\n",
            "/usr/local/lib/python3.10/dist-packages/gym/core.py:317: DeprecationWarning: \u001b[33mWARN: Initializing wrapper in old step API which returns one bool instead of two. It is recommended to set `new_step_api=True` to use new step API. This will be the default behaviour in future.\u001b[0m\n",
            "  deprecation(\n",
            "/usr/local/lib/python3.10/dist-packages/gym/wrappers/step_api_compatibility.py:39: DeprecationWarning: \u001b[33mWARN: Initializing environment in old step API which returns one bool instead of two. It is recommended to set `new_step_api=True` to use new step API. This will be the default behaviour in future.\u001b[0m\n",
            "  deprecation(\n",
            "/usr/local/lib/python3.10/dist-packages/gym/core.py:49: DeprecationWarning: \u001b[33mWARN: You are calling render method, but you didn't specified the argument render_mode at environment initialization. To maintain backward compatibility, the environment will render in human mode.\n",
            "If you want to render in human mode, initialize the environment in this way: gym.make('EnvName', render_mode='human') and don't call the render method.\n",
            "See here for more information: https://www.gymlibrary.ml/content/api/\u001b[0m\n",
            "  deprecation(\n"
          ]
        },
        {
          "output_type": "stream",
          "name": "stdout",
          "text": [
            "Current state is: 148\n"
          ]
        }
      ]
    },
    {
      "cell_type": "markdown",
      "source": [
        "Rendering:"
      ],
      "metadata": {
        "id": "SJ9qowT9ILII"
      }
    },
    {
      "cell_type": "markdown",
      "source": [
        "- yellow: taxi is unoccupied\n",
        "- green: taxi is occupied by a passenger\n",
        "- blue: passenger\n",
        "- magenta: destination\n",
        "- other grids: locations"
      ],
      "metadata": {
        "id": "FLbxsh_DjRPy"
      }
    },
    {
      "cell_type": "markdown",
      "source": [
        "#### State Space\n",
        "The state vector for this problem is (col_index, row_index, destination_locations, passenger_position) There are 5 rows, 5 columns and 4 destination locations. What about the passenger locations? 4 or 5?\n",
        "\n",
        "If the passenger is not in cab that means he could be only at one of the four locations. But we also need to account for 1 addition state if the passenger is inside the cab. So, passenger could be at any 4+1 possible locations.\n",
        "\n",
        "Therefore, the state space = 5x5x4x5 = 500"
      ],
      "metadata": {
        "id": "9TDY9IVpizGe"
      }
    },
    {
      "cell_type": "code",
      "source": [
        "# No. of possible states\n",
        "state_size= env.observation_space.n\n",
        "print(\"state_space: \", state_size)"
      ],
      "metadata": {
        "id": "IhvL2bzO1Fow",
        "colab": {
          "base_uri": "https://localhost:8080/"
        },
        "outputId": "20c0b734-6a27-465c-ebd4-e0510f7f54f2"
      },
      "execution_count": 3,
      "outputs": [
        {
          "output_type": "stream",
          "name": "stdout",
          "text": [
            "state_space:  500\n"
          ]
        }
      ]
    },
    {
      "cell_type": "markdown",
      "source": [
        "### Action Space\n",
        "At any state, the cab driver can either move in any of the four directions or it can pickup/ drop (legally or illegally)\n",
        "\n",
        "- 0: south\n",
        "- 1: north\n",
        "- 2: east\n",
        "- 3: west\n",
        "- 4: pickup\n",
        "- 5: drop"
      ],
      "metadata": {
        "id": "edh4nxElo61y"
      }
    },
    {
      "cell_type": "code",
      "source": [
        "# No. of possible Actions\n",
        "action_size= env.action_space.n\n",
        "print(\"Action_space: \", action_size)"
      ],
      "metadata": {
        "id": "mSNQbqs81Fq7",
        "colab": {
          "base_uri": "https://localhost:8080/"
        },
        "outputId": "f9ea4a35-22d8-4315-c5a7-f43fede49947"
      },
      "execution_count": 4,
      "outputs": [
        {
          "output_type": "stream",
          "name": "stdout",
          "text": [
            "Action_space:  6\n"
          ]
        }
      ]
    },
    {
      "cell_type": "markdown",
      "source": [
        "## Training\n",
        "Let's now solve the given MDP using Q-learning & SARSA."
      ],
      "metadata": {
        "id": "3rCEJDqEpdaN"
      }
    },
    {
      "cell_type": "markdown",
      "source": [
        "## Q-Learning\n",
        "Q-Learning is an off-policy optimal control algorithm. It learns the Q-values by taking the next action based on the greedy policy"
      ],
      "metadata": {
        "id": "4nZQXZnapjVh"
      }
    },
    {
      "cell_type": "code",
      "source": [
        "Q_table = np.zeros((state_size, action_size))\n",
        "print(Q_table)"
      ],
      "metadata": {
        "colab": {
          "base_uri": "https://localhost:8080/"
        },
        "id": "OvG-2a7uiMUx",
        "outputId": "b514eabb-3932-455a-db16-98e7c63cc50b"
      },
      "execution_count": 5,
      "outputs": [
        {
          "output_type": "stream",
          "name": "stdout",
          "text": [
            "[[0. 0. 0. 0. 0. 0.]\n",
            " [0. 0. 0. 0. 0. 0.]\n",
            " [0. 0. 0. 0. 0. 0.]\n",
            " ...\n",
            " [0. 0. 0. 0. 0. 0.]\n",
            " [0. 0. 0. 0. 0. 0.]\n",
            " [0. 0. 0. 0. 0. 0.]]\n"
          ]
        }
      ]
    },
    {
      "cell_type": "code",
      "source": [
        "episodes = 100000    # No. of episodes\n",
        "\n",
        "# hyperparameters\n",
        "learning_rate = 0.1 # Learning rate\n",
        "gamma = 0.8         # Discount factor\n",
        "epsilon = 0.1       # Exploration- exploitation Tradeoff"
      ],
      "metadata": {
        "id": "zLehLTwViMXG"
      },
      "execution_count": 6,
      "outputs": []
    },
    {
      "cell_type": "code",
      "source": [
        "# Keeping the policy epsilon-greedy\n",
        "def epsilon_greedy(state, table):\n",
        "  z = np.random.random()\n",
        "  if z > epsilon:\n",
        "    action = np.argmax(table[state])\n",
        "  else:\n",
        "    action = env.action_space.sample()\n",
        "  return action"
      ],
      "metadata": {
        "id": "xdmbR_nysqDF"
      },
      "execution_count": 7,
      "outputs": []
    },
    {
      "cell_type": "code",
      "source": [
        "start = time.time()\n",
        "deltas= []\n",
        "\n",
        "for episode in range(1, episodes+1):\n",
        "  state = env.reset()\n",
        "  done = False\n",
        "  step = 0\n",
        "  biggest_change = 0\n",
        "\n",
        "  if episode % 5000 == 0:\n",
        "    print(\"Episode: {}\".format(episode))\n",
        "\n",
        "  while not done:\n",
        "    action = epsilon_greedy(state, Q_table)\n",
        "    new_state, reward, done, info = env.step(action)\n",
        "    oldQ_table = Q_table[state, action]\n",
        "    Q_table[state, action] += learning_rate * (reward + gamma * np.max(Q_table[new_state,:])-Q_table[state, action])\n",
        "    biggest_change = max(biggest_change, np.abs(Q_table[state][action]-oldQ_table))\n",
        "    state = new_state\n",
        "  deltas.append(biggest_change)\n",
        "  if deltas[-1] < 0.00000001:\n",
        "    break\n",
        "  episode +=1\n",
        "\n",
        "end= time.time()\n",
        "training_time = end-start\n",
        "print(\"Time_taken in seconds: \", training_time)\n",
        "print(\"maximum difference\", deltas[-1])"
      ],
      "metadata": {
        "colab": {
          "base_uri": "https://localhost:8080/"
        },
        "id": "nppFzA-ksqFu",
        "outputId": "b29195d2-35ed-4e62-b03d-9b3fd3919adf"
      },
      "execution_count": 8,
      "outputs": [
        {
          "output_type": "stream",
          "name": "stdout",
          "text": [
            "Time_taken in seconds:  13.946112871170044\n",
            "maximum difference 9.53623802146808e-09\n"
          ]
        }
      ]
    },
    {
      "cell_type": "code",
      "source": [
        "Q_table[33]"
      ],
      "metadata": {
        "id": "XHrbFkg3sqIR",
        "colab": {
          "base_uri": "https://localhost:8080/"
        },
        "outputId": "7c74d8f6-1182-43e2-aefe-1af3383e822d"
      },
      "execution_count": 9,
      "outputs": [
        {
          "output_type": "execute_result",
          "data": {
            "text/plain": [
              "array([-3.65576619, -3.70412821, -3.69712639, -3.71153713, -6.88146016,\n",
              "       -7.17720704])"
            ]
          },
          "metadata": {},
          "execution_count": 9
        }
      ]
    },
    {
      "cell_type": "markdown",
      "source": [
        "##Testing the Q-Table\n",
        "Let's know test our Q-learning agent on a different environment"
      ],
      "metadata": {
        "id": "xpkEGdYYDQ8K"
      }
    },
    {
      "cell_type": "code",
      "source": [
        "state = env.reset()\n",
        "env.render()"
      ],
      "metadata": {
        "id": "roLgq1rmsqLl"
      },
      "execution_count": 10,
      "outputs": []
    },
    {
      "cell_type": "code",
      "source": [
        "from IPython.display import clear_output\n",
        "done = False\n",
        "cumulative_reward = 0\n",
        "\n",
        "\n",
        "while (done==False):\n",
        "  best_action = np.argmax(Q_table[state,:])\n",
        "  state,reward, done, info = env.step(best_action)\n",
        "  cumulative_reward += reward\n",
        "\n",
        "  time.sleep(0.5)\n",
        "  clear_output(wait=True)\n",
        "  env.render()\n",
        "  print(\"episode_reward\", cumulative_reward)\n",
        "env.close()"
      ],
      "metadata": {
        "id": "5iTnF2tUsqPD",
        "colab": {
          "base_uri": "https://localhost:8080/"
        },
        "outputId": "3ddc0d2d-3f33-43ef-808e-b9bc54e24417"
      },
      "execution_count": 11,
      "outputs": [
        {
          "output_type": "stream",
          "name": "stdout",
          "text": [
            "episode_reward 5\n"
          ]
        }
      ]
    },
    {
      "cell_type": "code",
      "source": [],
      "metadata": {
        "id": "-RNCgru3sqRE"
      },
      "execution_count": 11,
      "outputs": []
    },
    {
      "cell_type": "code",
      "source": [],
      "metadata": {
        "id": "oPgu7_k9sqTf"
      },
      "execution_count": 11,
      "outputs": []
    },
    {
      "cell_type": "code",
      "source": [],
      "metadata": {
        "id": "0x0m3nj4iMcC"
      },
      "execution_count": 11,
      "outputs": []
    },
    {
      "cell_type": "code",
      "source": [],
      "metadata": {
        "id": "N9jUWi3HiMfn"
      },
      "execution_count": 11,
      "outputs": []
    },
    {
      "cell_type": "code",
      "source": [],
      "metadata": {
        "id": "dawZNWi9iMrE"
      },
      "execution_count": 11,
      "outputs": []
    },
    {
      "cell_type": "code",
      "source": [],
      "metadata": {
        "id": "f18BodMX1Fs2"
      },
      "execution_count": 11,
      "outputs": []
    },
    {
      "cell_type": "code",
      "source": [],
      "metadata": {
        "id": "LELEyKmT1FvE"
      },
      "execution_count": 11,
      "outputs": []
    },
    {
      "cell_type": "code",
      "source": [],
      "metadata": {
        "id": "zgHtGacI1FxS"
      },
      "execution_count": 11,
      "outputs": []
    },
    {
      "cell_type": "code",
      "source": [],
      "metadata": {
        "id": "hU-2c1yQNfTQ"
      },
      "execution_count": 11,
      "outputs": []
    },
    {
      "cell_type": "code",
      "source": [],
      "metadata": {
        "id": "WQDHbBVaNfdA"
      },
      "execution_count": 11,
      "outputs": []
    },
    {
      "cell_type": "code",
      "source": [],
      "metadata": {
        "id": "aU2sZE2BNfe-"
      },
      "execution_count": 11,
      "outputs": []
    },
    {
      "cell_type": "code",
      "source": [],
      "metadata": {
        "id": "Fvm6VFYUNfhS"
      },
      "execution_count": 11,
      "outputs": []
    }
  ]
}